{
 "cells": [
  {
   "cell_type": "code",
   "execution_count": 1,
   "metadata": {},
   "outputs": [],
   "source": [
    "import pandas as pd\n",
    "\n",
    "df = pd.read_csv('response.csv') \n",
    "df = df.fillna('')\n",
    "df['response']=df.iloc[:,3]+df.iloc[:,5]+df.iloc[:,6]\n",
    "df['issue'] = df.iloc[:,1]\n",
    "df['symptom'] = df.iloc[:,2] + df.iloc[:,4]\n",
    "subset = df.iloc[:,-3:]"
   ]
  },
  {
   "cell_type": "code",
   "execution_count": 2,
   "metadata": {},
   "outputs": [
    {
     "name": "stdout",
     "output_type": "stream",
     "text": [
      "It makes a grinding sound for a few seconds and then nothing happens. \n",
      "Dashboard computer reboots when traveling above 80mph\n",
      "When I drive, I feel like the car is making a clicking noise.\n",
      "Shuttering when accelerating \n",
      "When I'm taking a left turn, the steering wheel shudders and I hear a grinding noise too.\n",
      "The pedal feels squishy. It stops if I push the key in the ignition, I just get a clicking sound - maybe a dead battery?\n",
      "windshield wipers \n",
      "When I turn the radio and asking me if I know where the All Spark is hidden\n",
      "It makes clunking noises when I go over a bump.\n",
      "I tried starting my car but it doesn't work. It sputters for a while and never turns over.\n"
     ]
    }
   ],
   "source": [
    "import markovify\n",
    "import codecs\n",
    "\n",
    "model = markovify.NewlineText(subset.response, retain_original=False, state_size=3)\n",
    "\n",
    "for i in range(10):\n",
    "    print(model.make_short_sentence(200))"
   ]
  },
  {
   "cell_type": "code",
   "execution_count": 9,
   "metadata": {},
   "outputs": [],
   "source": [
    "def train_markov_type(data, issue):\n",
    "    return markovify.Text(data[data[\"issue\"] == issue].response, retain_original=False, state_size=3)\n",
    "\n",
    "def make_sentence(model, length=200):\n",
    "    return model.make_short_sentence(length)\n",
    "\n",
    "other_model = train_markov_type(subset, \"Other\")\n",
    "brakes_model = train_markov_type(subset, \"Brakes\")\n",
    "starter_model = train_markov_type(subset, \"Starter\")"
   ]
  },
  {
   "cell_type": "code",
   "execution_count": 10,
   "metadata": {},
   "outputs": [
    {
     "data": {
      "text/plain": [
       "'The steering wheel shakes uncontrollably when I accelerate above 60 mph.'"
      ]
     },
     "execution_count": 10,
     "metadata": {},
     "output_type": "execute_result"
    }
   ],
   "source": [
    "make_sentence(other_model)"
   ]
  },
  {
   "cell_type": "code",
   "execution_count": 11,
   "metadata": {},
   "outputs": [
    {
     "data": {
      "text/plain": [
       "\"It's rather a periodic deep sound when breaking.\""
      ]
     },
     "execution_count": 11,
     "metadata": {},
     "output_type": "execute_result"
    }
   ],
   "source": [
    "make_sentence(brakes_model)"
   ]
  },
  {
   "cell_type": "code",
   "execution_count": 12,
   "metadata": {},
   "outputs": [
    {
     "data": {
      "text/plain": [
       "'My car does not turn over'"
      ]
     },
     "execution_count": 12,
     "metadata": {},
     "output_type": "execute_result"
    }
   ],
   "source": [
    "make_sentence(starter_model)"
   ]
  },
  {
   "cell_type": "markdown",
   "metadata": {},
   "source": [
    "We can combine these models with relative weights"
   ]
  },
  {
   "cell_type": "code",
   "execution_count": 13,
   "metadata": {},
   "outputs": [],
   "source": [
    "compound_model = markovify.combine([other_model, brakes_model, starter_model], [14, 3, 3])"
   ]
  },
  {
   "cell_type": "code",
   "execution_count": 14,
   "metadata": {},
   "outputs": [
    {
     "name": "stdout",
     "output_type": "stream",
     "text": [
      "The oil change light comes on and the fan is running full blast.\n",
      "The steering wheel shakes uncontrollably when I accelerate above 60 mph.\n",
      "I was working on the fuel line, and apparently it came loose while driving.\n",
      "It stops if I push the gas peddle.\n",
      "I'm on the side of the road, the lights, radio, electronic door locks, etc are all working fine, but the car won't shift out of park.\n",
      "I can hear the starter firing but the car won't shift out of park.\n",
      "The car pulls to the left.\n",
      "The driver side window auto function does not work, you pull the window up, it goes all the way up and then down.\n",
      "When turning, the car is leaning on left\n",
      "the privacy glass between my driver and my seating area doesn't work well.\n",
      "my car does not stop\n",
      "When turning, the car is leaning on left\n",
      "I don't know what more you want from me, I get into the car, turn the key, nothing happens.\n",
      "the flux capacitor is misfiring and I can't get up to 88 MPH\n",
      "When I drive, I feel like the car is making a clicking noise.\n",
      "Not so much a grinding noise, more like a piercing shriek of anguish\n",
      "The left rear window only rolls down but does not roll back up.\n",
      "I have a problem with my blinker fluid.\n",
      "When I'm taking a left turn, the steering wheel shudders and I hear a grinding noise coming from somewhere in the front.\n",
      "The car pulls to the left.\n"
     ]
    }
   ],
   "source": [
    "for i in range(20):\n",
    "    print(make_sentence(compound_model))"
   ]
  },
  {
   "cell_type": "code",
   "execution_count": 22,
   "metadata": {},
   "outputs": [],
   "source": [
    "import numpy\n",
    "def generate_cases(models, weights=None):\n",
    "    if weights is None:\n",
    "        weights = [1] * len(models)\n",
    "    \n",
    "    choices = []\n",
    "    \n",
    "    total_weight = float(sum(weights))\n",
    "    \n",
    "    for i in range(len(weights)):\n",
    "        choices.append((float(sum(weights[0:i+1])) / total_weight, models[i]))\n",
    "    \n",
    "    def choose_model():\n",
    "        r = numpy.random.uniform()\n",
    "        for (p, m) in choices:\n",
    "            if r <= p:\n",
    "                return m\n",
    "        return choices[-1][1]\n",
    "\n",
    "\n",
    "    def choose_from(c):\n",
    "        idx = math.floor(numpy.random.uniform() * len(c))\n",
    "        return c[idx]\n",
    "    \n",
    "    \n",
    "    while True:\n",
    "        yield (make_sentence(choose_model()))\n",
    "            "
   ]
  },
  {
   "cell_type": "code",
   "execution_count": 23,
   "metadata": {},
   "outputs": [],
   "source": [
    "t = generate_cases([other_model, brakes_model, starter_model], [5,20,20])"
   ]
  },
  {
   "cell_type": "code",
   "execution_count": 24,
   "metadata": {
    "scrolled": true
   },
   "outputs": [
    {
     "data": {
      "text/plain": [
       "[\"The rotors are warped so it's difficult to push the break pedal without lurching.\",\n",
       " 'It stops if I push it really far, but I have to brake again.',\n",
       " 'If I pump the brake it works better.',\n",
       " 'It makes a sputtering noise and does not turn over',\n",
       " 'Have to cycle the ignition three times before the car starts on the the fourth time.',\n",
       " \"Starter makes clicking noise, won't start the engine unless you hit the starter with a hammer.\",\n",
       " 'The car make some screeching or grinding noises when stopping.',\n",
       " 'You must act immediately!',\n",
       " 'While driving I hear lot of noises coming from the brakes of my car.',\n",
       " 'While driving I hear lot of noises coming from the brakes of my car.',\n",
       " 'The car make some screeching or grinding noises when stopping.',\n",
       " 'brake pads are not wearing down evenly',\n",
       " 'With that, highway driving is very dangerous',\n",
       " \"Where's the place, where I need to insert my key to start the engine unless you hit the starter with a hammer.\",\n",
       " 'Sometimes when I brake, after a few seconds, the brakes disengage.',\n",
       " 'Squealing sound',\n",
       " \"Car dies when I stop at a light or stop sign and then won't start again.\",\n",
       " \"It's rather a periodic deep sound when breaking.\",\n",
       " \"I tried starting my car but it doesn't work.\",\n",
       " \"The car is very slow to get moving and there's a horrible grinding noise as I drive.\",\n",
       " 'It makes a sputtering noise and does not turn over.',\n",
       " 'It makes a sputtering noise and does not turn over.',\n",
       " 'brake pads are not wearing down evenly',\n",
       " 'I can hear the starter firing but the car doesnt start.',\n",
       " 'Car makes a squeeky noise when stopping.',\n",
       " 'When coming to a stop at a stop light, I press on the brake and the car does slow, but it takes a long time to come to a complete stop.',\n",
       " 'The car pulls to the left.',\n",
       " 'https://www.youtube.com/watch?v=bEME9licodY',\n",
       " 'It is very unpleasant.',\n",
       " \"Car dies when I stop at a light or stop sign and then won't start again.\",\n",
       " 'While driving I hear lot of noises coming from the brakes of my car.',\n",
       " 'super frustrating every time I start my car it just stops again, what is wrong!',\n",
       " 'Alternator is faulty',\n",
       " 'It makes a sputtering noise and does not turn over',\n",
       " 'Alternator is faulty',\n",
       " 'While driving I hear lot of noises coming from the brakes of my car.',\n",
       " 'The air conditioner only blows cold sometimes.',\n",
       " \"Starter makes clicking noise, won't start the engine unless you hit the starter with a hammer.\",\n",
       " 'It is more squealing or screeching sounds than grinding.',\n",
       " \"Starter makes clicking noise, won't start the engine only to find that the dashboard lights up, but the engine doesn’t power up\",\n",
       " 'super frustrating every time I start my car it just stops again, what is wrong!',\n",
       " 'Car does not start.',\n",
       " 'I turn the wheel.',\n",
       " 'If I pump the brake it works better.',\n",
       " \"I can't drive that way, always these bullshitty new technologies...\",\n",
       " 'Please help ASAP!',\n",
       " 'Customer states breaks make a terrible sound when stopping.',\n",
       " 'Just that odd clicking noise....',\n",
       " 'With that, highway driving is very dangerous',\n",
       " 'Please help ASAP!',\n",
       " 'I turn the key and nothing happens',\n",
       " 'When I tried to drive, the car made horrible grinding noises.',\n",
       " 'my breaks are faulty.',\n",
       " 'Please help ASAP!',\n",
       " 'Car makes a squeeky noise when stopping.',\n",
       " 'When I try to start it.',\n",
       " 'I keep driving past my driveway because the car refuses to stop',\n",
       " \"I'm not sure if it is the battery since the lights and radio worked but it definitely was not starting.\",\n",
       " 'With that, highway driving is very dangerous',\n",
       " 'The car make some screeching or grinding noises when stopping.',\n",
       " 'It takes a long time to start, and if I push the key in the ignition, I just get a clicking sound - maybe a dead battery?',\n",
       " 'It makes a sputtering noise and does not turn over',\n",
       " 'Please help ASAP!',\n",
       " 'windshield wipers',\n",
       " 'Then I have to brake again.',\n",
       " 'my lights do not work',\n",
       " 'I have a keyless start system and when I step on the brake and pushed the button, the lights would come one and the car would not start.',\n",
       " 'I have to press the ignition button at least twice before my car starts.',\n",
       " 'https://www.youtube.com/watch?v=bEME9licodY',\n",
       " 'My car makes a weird whirring sound every time I start it',\n",
       " 'When I try to start it.',\n",
       " 'brake pads are not wearing down evenly',\n",
       " 'It stops if I push it really far, but I have to press the brakes a bit harder than I normally would.',\n",
       " \"It won't start and doesn't respond when trying to jump start it.\",\n",
       " 'Car creates whistle sound each time I try to start the ignition?',\n",
       " \"It won't start and doesn't respond when trying to jump start it.\",\n",
       " 'Just that odd clicking noise....',\n",
       " 'I try to start the engine unless you hit the starter with a hammer.',\n",
       " 'Cannot get the car to turn over.',\n",
       " 'The HVAC system is broken in the car. t only has two modes -- full blast heat or full blast cooling.',\n",
       " 'I have a keyless start system and when I step on the brake and pushed the button, the lights would come one and the car would make a click click clicking sound but would not start.',\n",
       " 'I have a keyless start system and when I step on the brake and pushed the button, the lights would come one and the car would make a click click clicking sound but would not start.',\n",
       " 'Sometimes when I brake, after a few seconds, the brakes disengage.',\n",
       " 'I press down on the brake pedal',\n",
       " \"Brakes might be getting old because car doesn't seem to stop as quickly as it used to\",\n",
       " 'It seems like I have to press the brakes a bit harder than I normally would.',\n",
       " 'Car makes a squeeky noise when stopping.',\n",
       " \"It's not actually a grinding noise.\",\n",
       " 'Car does not start.',\n",
       " 'I can hear the starter firing but the car doesnt start.',\n",
       " 'My car sounds like its 20 years old when I push hard on the brakes.',\n",
       " 'Car creates whistle sound each time I try to start the ignition?',\n",
       " 'It sputters for a while and never turns over.',\n",
       " 'When I try to start the ignition?',\n",
       " 'Customer states breaks make a terrible sound when stopping.',\n",
       " 'my car does not stop',\n",
       " 'I feel a bit of rumbling to the car and a weird noise when I hit brakes.',\n",
       " 'Sometimes when I brake, after a few seconds, the brakes disengage.',\n",
       " 'It makes clunking noises when I go over a bump.',\n",
       " 'I came out from work at the end of the day and the car would not start.']"
      ]
     },
     "execution_count": 24,
     "metadata": {},
     "output_type": "execute_result"
    }
   ],
   "source": [
    "[next(t) for i in range(100)]"
   ]
  },
  {
   "cell_type": "code",
   "execution_count": 25,
   "metadata": {},
   "outputs": [],
   "source": [
    "import cProfile\n",
    "\n",
    "def timing(c):\n",
    "    for _ in range(c):\n",
    "        next(t)\n",
    "\n",
    "cProfile.run('timing(2000)', 'generatestats')"
   ]
  },
  {
   "cell_type": "code",
   "execution_count": 26,
   "metadata": {},
   "outputs": [
    {
     "name": "stdout",
     "output_type": "stream",
     "text": [
      "Mon Mar  8 11:22:59 2021    generatestats\n",
      "\n",
      "         282666 function calls (257990 primitive calls) in 0.140 seconds\n",
      "\n",
      "   Ordered by: standard name\n",
      "\n",
      "   ncalls  tottime  percall  cumtime  percall filename:lineno(function)\n",
      "     2000    0.002    0.000    0.008    0.000 <ipython-input-22-5f1382f3447f>:13(choose_model)\n",
      "     2000    0.001    0.000    0.139    0.000 <ipython-input-22-5f1382f3447f>:2(generate_cases)\n",
      "        1    0.001    0.001    0.140    0.140 <ipython-input-25-801ca619797e>:3(timing)\n",
      "     2000    0.001    0.000    0.129    0.000 <ipython-input-9-8ddb86548959>:4(make_sentence)\n",
      "        1    0.000    0.000    0.140    0.140 <string>:1(<module>)\n",
      "    55417    0.014    0.000    0.020    0.000 chain.py:10(accumulate)\n",
      "    26704    0.017    0.000    0.110    0.000 chain.py:112(gen)\n",
      "     2028    0.005    0.000    0.115    0.000 chain.py:125(walk)\n",
      "    26704    0.061    0.000    0.093    0.000 chain.py:96(move)\n",
      "     2028    0.001    0.000    0.002    0.000 text.py:120(word_join)\n",
      "     2028    0.006    0.000    0.123    0.000 text.py:175(make_sentence)\n",
      "     2000    0.004    0.000    0.128    0.000 text.py:221(make_short_sentence)\n",
      "    26704    0.006    0.000    0.006    0.000 {built-in method _bisect.bisect_right}\n",
      "     6065    0.001    0.000    0.001    0.000 {built-in method _operator.add}\n",
      "        1    0.000    0.000    0.140    0.140 {built-in method builtins.exec}\n",
      "     2028    0.000    0.000    0.000    0.000 {built-in method builtins.hasattr}\n",
      "    24676    0.003    0.000    0.003    0.000 {built-in method builtins.iter}\n",
      "     4028    0.000    0.000    0.000    0.000 {built-in method builtins.len}\n",
      "26676/2000    0.003    0.000    0.140    0.000 {built-in method builtins.next}\n",
      "        1    0.000    0.000    0.000    0.000 {method 'disable' of '_lsprof.Profiler' objects}\n",
      "    14168    0.001    0.000    0.001    0.000 {method 'get' of 'dict' objects}\n",
      "    24676    0.003    0.000    0.003    0.000 {method 'items' of 'dict' objects}\n",
      "     2028    0.001    0.000    0.001    0.000 {method 'join' of 'str' objects}\n",
      "    26704    0.003    0.000    0.003    0.000 {method 'random' of '_random.Random' objects}\n",
      "     2000    0.007    0.000    0.007    0.000 {method 'uniform' of 'numpy.random.mtrand.RandomState' objects}\n",
      "\n",
      "\n"
     ]
    },
    {
     "data": {
      "text/plain": [
       "<pstats.Stats at 0x11d008e50>"
      ]
     },
     "execution_count": 26,
     "metadata": {},
     "output_type": "execute_result"
    }
   ],
   "source": [
    "import pstats\n",
    "p = pstats.Stats('generatestats')\n",
    "p.strip_dirs().sort_stats(-1).print_stats()"
   ]
  }
 ],
 "metadata": {
  "kernelspec": {
   "display_name": "Python 3",
   "language": "python",
   "name": "python3"
  },
  "language_info": {
   "codemirror_mode": {
    "name": "ipython",
    "version": 3
   },
   "file_extension": ".py",
   "mimetype": "text/x-python",
   "name": "python",
   "nbconvert_exporter": "python",
   "pygments_lexer": "ipython3",
   "version": "3.8.5"
  }
 },
 "nbformat": 4,
 "nbformat_minor": 2
}
